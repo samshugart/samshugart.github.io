{
  "nbformat": 4,
  "nbformat_minor": 0,
  "metadata": {
    "colab": {
      "provenance": [],
      "authorship_tag": "ABX9TyNnQbp3IswwFtl5JeEu6bPF",
      "include_colab_link": true
    },
    "kernelspec": {
      "name": "python3",
      "display_name": "Python 3"
    },
    "language_info": {
      "name": "python"
    }
  },
  "cells": [
    {
      "cell_type": "markdown",
      "metadata": {
        "id": "view-in-github",
        "colab_type": "text"
      },
      "source": [
        "<a href=\"https://colab.research.google.com/github/samshugart/samshugart.github.io/blob/master/CNACT_para_extract_Alpha_3_27.ipynb\" target=\"_parent\"><img src=\"https://colab.research.google.com/assets/colab-badge.svg\" alt=\"Open In Colab\"/></a>"
      ]
    },
    {
      "cell_type": "code",
      "source": [
        "!pip install PyMuPDF\n",
        "!pip install nltk\n",
        "import nltk\n",
        "nltk.download('punkt')"
      ],
      "metadata": {
        "colab": {
          "base_uri": "https://localhost:8080/"
        },
        "id": "AYz0i8Mltyqg",
        "outputId": "910d3461-da93-4f93-fe13-ab092cd69946"
      },
      "execution_count": null,
      "outputs": [
        {
          "output_type": "stream",
          "name": "stdout",
          "text": [
            "Looking in indexes: https://pypi.org/simple, https://us-python.pkg.dev/colab-wheels/public/simple/\n",
            "Collecting PyMuPDF\n",
            "  Downloading PyMuPDF-1.21.1-cp39-cp39-manylinux_2_17_x86_64.manylinux2014_x86_64.whl (14.0 MB)\n",
            "\u001b[2K     \u001b[90m━━━━━━━━━━━━━━━━━━━━━━━━━━━━━━━━━━━━━━━━\u001b[0m \u001b[32m14.0/14.0 MB\u001b[0m \u001b[31m79.8 MB/s\u001b[0m eta \u001b[36m0:00:00\u001b[0m\n",
            "\u001b[?25hInstalling collected packages: PyMuPDF\n",
            "Successfully installed PyMuPDF-1.21.1\n",
            "Looking in indexes: https://pypi.org/simple, https://us-python.pkg.dev/colab-wheels/public/simple/\n",
            "Requirement already satisfied: nltk in /usr/local/lib/python3.9/dist-packages (3.8.1)\n",
            "Requirement already satisfied: joblib in /usr/local/lib/python3.9/dist-packages (from nltk) (1.1.1)\n",
            "Requirement already satisfied: click in /usr/local/lib/python3.9/dist-packages (from nltk) (8.1.3)\n",
            "Requirement already satisfied: regex>=2021.8.3 in /usr/local/lib/python3.9/dist-packages (from nltk) (2022.10.31)\n",
            "Requirement already satisfied: tqdm in /usr/local/lib/python3.9/dist-packages (from nltk) (4.65.0)\n"
          ]
        },
        {
          "output_type": "stream",
          "name": "stderr",
          "text": [
            "[nltk_data] Downloading package punkt to /root/nltk_data...\n",
            "[nltk_data]   Unzipping tokenizers/punkt.zip.\n"
          ]
        },
        {
          "output_type": "execute_result",
          "data": {
            "text/plain": [
              "True"
            ]
          },
          "metadata": {},
          "execution_count": 1
        }
      ]
    },
    {
      "cell_type": "code",
      "source": [],
      "metadata": {
        "id": "DJBXmMXvhUFx"
      },
      "execution_count": null,
      "outputs": []
    },
    {
      "cell_type": "code",
      "source": [
        "pip install -U scikit-learn"
      ],
      "metadata": {
        "colab": {
          "base_uri": "https://localhost:8080/"
        },
        "id": "D3O-u7LAt7r_",
        "outputId": "0d1d056c-9227-4ca9-d349-e9a9ca17888f"
      },
      "execution_count": null,
      "outputs": [
        {
          "output_type": "stream",
          "name": "stdout",
          "text": [
            "Looking in indexes: https://pypi.org/simple, https://us-python.pkg.dev/colab-wheels/public/simple/\n",
            "Requirement already satisfied: scikit-learn in /usr/local/lib/python3.9/dist-packages (1.2.2)\n",
            "Requirement already satisfied: threadpoolctl>=2.0.0 in /usr/local/lib/python3.9/dist-packages (from scikit-learn) (3.1.0)\n",
            "Requirement already satisfied: numpy>=1.17.3 in /usr/local/lib/python3.9/dist-packages (from scikit-learn) (1.22.4)\n",
            "Requirement already satisfied: joblib>=1.1.1 in /usr/local/lib/python3.9/dist-packages (from scikit-learn) (1.1.1)\n",
            "Requirement already satisfied: scipy>=1.3.2 in /usr/local/lib/python3.9/dist-packages (from scikit-learn) (1.10.1)\n"
          ]
        }
      ]
    },
    {
      "cell_type": "code",
      "execution_count": null,
      "metadata": {
        "id": "eESO-8zQtRcx"
      },
      "outputs": [],
      "source": [
        "#Import libraries \n",
        "import fitz\n",
        "import re\n",
        "import pandas as pd\n",
        "from sklearn.feature_extraction.text import TfidfVectorizer\n",
        "from nltk.tokenize import word_tokenize\n",
        "\n",
        "# Function to extract text from a PDF using fitz\n",
        "def extract_text_from_pdf_fitz(pdf_path):\n",
        "    with fitz.open(pdf_path) as pdf_file:\n",
        "        text = \"\"\n",
        "        for page in pdf_file:\n",
        "            text += page.get_text('text')\n",
        "    return text\n",
        "\n",
        "# Function to preprocess the text\n",
        "def preprocess_text(text):\n",
        "    words = word_tokenize(text)\n",
        "    words = [word.lower() for word in words]\n",
        "    return ' '.join(words)\n",
        "\n",
        "# Function to find words around a keyword\n",
        "def find_words_around_keyword(keyword, text, num_words=60):\n",
        "    pattern = r'((?:\\w+\\W+){%d})\\b%s\\b((?:\\W+\\w+){%d})' % (num_words, keyword, num_words)\n",
        "    matches = re.findall(pattern, text, re.IGNORECASE)\n",
        "    return matches"
      ]
    },
    {
      "cell_type": "code",
      "source": [
        "from google.colab import drive\n",
        "drive.mount('/content/drive')"
      ],
      "metadata": {
        "id": "th1smXgBgNvY"
      },
      "execution_count": null,
      "outputs": []
    },
    {
      "cell_type": "code",
      "source": [
        "# List of keywords to search for\n",
        "#keywords = ['net zero', 'carbon neutral', 'task force on climate financial disclosure', 'TCFD', 'governance', 'steering', 'disclosures', 'compensation', 'transition plan', '1.5OC', '2OC', 'risk management process', 'physical risk', 'transition risk', 'target', 'targets', 'scope 1', 'scope 2', 'scope 3', 'carbon price', 'offsetting', 'insetting', 'double counting', 'carbon removal', 'sbti', 'science-based targeting initiative']\n",
        "keywords = ['net zero', 'carbon neutral', 'task force on climate financial disclosure', 'TCFD']\n",
        "\n",
        "\n",
        "# Load the PDF text and preprocess it\n",
        "pdf_path = 'Blackrock_TCFD_2021.pdf'\n",
        "text_fitz = extract_text_from_pdf_fitz(pdf_path)\n",
        "preprocessed_text = preprocess_text(text_fitz)"
      ],
      "metadata": {
        "id": "bmlpSioUtq5B",
        "colab": {
          "base_uri": "https://localhost:8080/",
          "height": 364
        },
        "outputId": "419180e6-9b46-45ca-8862-480e885a655e"
      },
      "execution_count": null,
      "outputs": [
        {
          "output_type": "error",
          "ename": "FileNotFoundError",
          "evalue": "ignored",
          "traceback": [
            "\u001b[0;31m---------------------------------------------------------------------------\u001b[0m",
            "\u001b[0;31mFileNotFoundError\u001b[0m                         Traceback (most recent call last)",
            "\u001b[0;32m<ipython-input-4-7f55f6b5ac21>\u001b[0m in \u001b[0;36m<cell line: 8>\u001b[0;34m()\u001b[0m\n\u001b[1;32m      6\u001b[0m \u001b[0;31m# Load the PDF text and preprocess it\u001b[0m\u001b[0;34m\u001b[0m\u001b[0;34m\u001b[0m\u001b[0m\n\u001b[1;32m      7\u001b[0m \u001b[0mpdf_path\u001b[0m \u001b[0;34m=\u001b[0m \u001b[0;34m'Blackrock_TCFD_2021.pdf'\u001b[0m\u001b[0;34m\u001b[0m\u001b[0;34m\u001b[0m\u001b[0m\n\u001b[0;32m----> 8\u001b[0;31m \u001b[0mtext_fitz\u001b[0m \u001b[0;34m=\u001b[0m \u001b[0mextract_text_from_pdf_fitz\u001b[0m\u001b[0;34m(\u001b[0m\u001b[0mpdf_path\u001b[0m\u001b[0;34m)\u001b[0m\u001b[0;34m\u001b[0m\u001b[0;34m\u001b[0m\u001b[0m\n\u001b[0m\u001b[1;32m      9\u001b[0m \u001b[0mpreprocessed_text\u001b[0m \u001b[0;34m=\u001b[0m \u001b[0mpreprocess_text\u001b[0m\u001b[0;34m(\u001b[0m\u001b[0mtext_fitz\u001b[0m\u001b[0;34m)\u001b[0m\u001b[0;34m\u001b[0m\u001b[0;34m\u001b[0m\u001b[0m\n",
            "\u001b[0;32m<ipython-input-3-5c6b9306d5f2>\u001b[0m in \u001b[0;36mextract_text_from_pdf_fitz\u001b[0;34m(pdf_path)\u001b[0m\n\u001b[1;32m      8\u001b[0m \u001b[0;31m# Function to extract text from a PDF using fitz\u001b[0m\u001b[0;34m\u001b[0m\u001b[0;34m\u001b[0m\u001b[0m\n\u001b[1;32m      9\u001b[0m \u001b[0;32mdef\u001b[0m \u001b[0mextract_text_from_pdf_fitz\u001b[0m\u001b[0;34m(\u001b[0m\u001b[0mpdf_path\u001b[0m\u001b[0;34m)\u001b[0m\u001b[0;34m:\u001b[0m\u001b[0;34m\u001b[0m\u001b[0;34m\u001b[0m\u001b[0m\n\u001b[0;32m---> 10\u001b[0;31m     \u001b[0;32mwith\u001b[0m \u001b[0mfitz\u001b[0m\u001b[0;34m.\u001b[0m\u001b[0mopen\u001b[0m\u001b[0;34m(\u001b[0m\u001b[0mpdf_path\u001b[0m\u001b[0;34m)\u001b[0m \u001b[0;32mas\u001b[0m \u001b[0mpdf_file\u001b[0m\u001b[0;34m:\u001b[0m\u001b[0;34m\u001b[0m\u001b[0;34m\u001b[0m\u001b[0m\n\u001b[0m\u001b[1;32m     11\u001b[0m         \u001b[0mtext\u001b[0m \u001b[0;34m=\u001b[0m \u001b[0;34m\"\"\u001b[0m\u001b[0;34m\u001b[0m\u001b[0;34m\u001b[0m\u001b[0m\n\u001b[1;32m     12\u001b[0m         \u001b[0;32mfor\u001b[0m \u001b[0mpage\u001b[0m \u001b[0;32min\u001b[0m \u001b[0mpdf_file\u001b[0m\u001b[0;34m:\u001b[0m\u001b[0;34m\u001b[0m\u001b[0;34m\u001b[0m\u001b[0m\n",
            "\u001b[0;32m/usr/local/lib/python3.9/dist-packages/fitz/fitz.py\u001b[0m in \u001b[0;36m__init__\u001b[0;34m(self, filename, stream, filetype, rect, width, height, fontsize)\u001b[0m\n\u001b[1;32m   3951\u001b[0m             \u001b[0;32mif\u001b[0m \u001b[0;32mnot\u001b[0m \u001b[0mos\u001b[0m\u001b[0;34m.\u001b[0m\u001b[0mpath\u001b[0m\u001b[0;34m.\u001b[0m\u001b[0mexists\u001b[0m\u001b[0;34m(\u001b[0m\u001b[0mfilename\u001b[0m\u001b[0;34m)\u001b[0m\u001b[0;34m:\u001b[0m\u001b[0;34m\u001b[0m\u001b[0;34m\u001b[0m\u001b[0m\n\u001b[1;32m   3952\u001b[0m                 \u001b[0mmsg\u001b[0m \u001b[0;34m=\u001b[0m \u001b[0;34mf\"no such file: '{filename}'\"\u001b[0m\u001b[0;34m\u001b[0m\u001b[0;34m\u001b[0m\u001b[0m\n\u001b[0;32m-> 3953\u001b[0;31m                 \u001b[0;32mraise\u001b[0m \u001b[0mFileNotFoundError\u001b[0m\u001b[0;34m(\u001b[0m\u001b[0mmsg\u001b[0m\u001b[0;34m)\u001b[0m\u001b[0;34m\u001b[0m\u001b[0;34m\u001b[0m\u001b[0m\n\u001b[0m\u001b[1;32m   3954\u001b[0m             \u001b[0;32melif\u001b[0m \u001b[0;32mnot\u001b[0m \u001b[0mos\u001b[0m\u001b[0;34m.\u001b[0m\u001b[0mpath\u001b[0m\u001b[0;34m.\u001b[0m\u001b[0misfile\u001b[0m\u001b[0;34m(\u001b[0m\u001b[0mfilename\u001b[0m\u001b[0;34m)\u001b[0m\u001b[0;34m:\u001b[0m\u001b[0;34m\u001b[0m\u001b[0;34m\u001b[0m\u001b[0m\n\u001b[1;32m   3955\u001b[0m                 \u001b[0mmsg\u001b[0m \u001b[0;34m=\u001b[0m \u001b[0;34mf\"'{filename}' is no file\"\u001b[0m\u001b[0;34m\u001b[0m\u001b[0;34m\u001b[0m\u001b[0m\n",
            "\u001b[0;31mFileNotFoundError\u001b[0m: no such file: 'Blackrock_TCFD_2021.pdf'"
          ]
        }
      ]
    },
    {
      "cell_type": "code",
      "source": [
        "top_terms_dict = {}\n",
        "my_stop_words = list(TfidfVectorizer(stop_words='english').get_stop_words()) + ['climate'] +['change']\n",
        "vectorizer = TfidfVectorizer(stop_words=my_stop_words, max_features=5000)\n",
        "for keyword in keywords:\n",
        "    # Find the words around the keyword\n",
        "    matches = find_words_around_keyword(keyword, preprocessed_text)\n",
        "    df = pd.DataFrame(matches, columns=['before', 'after'])\n",
        "    df['result'] = df['before']  + df['after']\n",
        "    keyword_string = ' '.join(df[\"result\"].astype(str).tolist())\n",
        "\n",
        "    # Add the keyword to the custom stop words list\n",
        "    my_stop_words_with_keyword = my_stop_words + [keyword.replace(' ', '_')]\n",
        "\n",
        "    # Check if the vocabulary is empty after adding custom stop words\n",
        "    vectorizer_with_stopwords = TfidfVectorizer(stop_words=my_stop_words_with_keyword, max_features=5000)\n",
        "    vectorizer_with_stopwords.fit_transform([' '])  # fit on an empty string\n",
        "    if not vectorizer_with_stopwords.vocabulary_:  # if the vocabulary is empty\n",
        "        keyword_string += ' dummyterm'  # add a dummy term to the keyword string\n",
        "\n",
        "    # Fit and transform the text data\n",
        "    tfidf = vectorizer.fit_transform([keyword_string])\n",
        "\n",
        "    # Get the feature names and their corresponding TF-IDF scores\n",
        "    feature_names = vectorizer.get_feature_names_out()\n",
        "    tfidf_scores = tfidf.toarray()\n",
        "\n",
        "    # Get the top 10 most important terms and their corresponding TF-IDF scores\n",
        "    sorted_scores = sorted(list(zip(feature_names, tfidf_scores[0])), key=lambda x: -x[1])\n",
        "    top_terms = [f\"{term} :{round(score, 2)}\\n\" for term, score in sorted_scores[:10]]\n",
        "\n",
        "    # Add the top terms to the dictionary\n",
        "    top_terms_dict[keyword] = ' '.join(top_terms)"
      ],
      "metadata": {
        "id": "S8-cQQJDuHyB",
        "colab": {
          "base_uri": "https://localhost:8080/",
          "height": 456
        },
        "outputId": "9fb042de-fc44-4cb3-952e-c077db4485ab"
      },
      "execution_count": null,
      "outputs": [
        {
          "output_type": "stream",
          "name": "stdout",
          "text": [
            "Keyword string for 'net zero': encourage further standardization of global sustainability disclosures . as advocates for transparency , we recognize the importance of blackrock meeting the same standards of disclosure that we ask of the companies our clients are invested in . tcfd is a key mechanism through which blackrock can provide transparency to stakeholders on how we are managing climate risk and addressing the global transition to  net zero  within our business . but it ’ s also an important mechanism through which we can contribute to the evolving global dialogue on what informative and decision-useful climate-related disclosure looks like to investors . this year , blackrock announced a series of commitments in support of clients as they prepare their portfolios for a net zero economy . getting to net zero requires risk management platform , aladdin® , which combines comprehensive portfolio management , trading , and risk reporting tools with sophisticated risk analytics on a single platform . blackrock , therefore , approaches climate-related risks2 and opportunities from two main perspectives , which are captured across this report : 1 . as an asset manager striving to help our clients benefit from investment opportunities arising from the global transition to  net zero  , and with a responsibility to manage material risks to our clients ’ portfolios , including climate-related risks , within the bounds of our clients ’ guidelines and objectives ; and 2 . as a corporate entity whose business is affected by climate-related risks and opportunities and whose operations have both direct and indirect impacts on the climate . reporting on other sustainability-related topics while to buy a home or pay for their children ’ s education . blackrock invests its clients ’ money in companies of all types and sizes , in every region of the world , helping those companies grow and operate . as blackrock ’ s ceo , larry fink , has said : “ there is no company whose business model won ’ t be profoundly affected by the transition to a  net zero  economy. ” 2 this statement holds just as true for blackrock as it does for any other company . as long-term investors , clients expect blackrock to monitor and act on long-term risks and opportunities that affect their investments . clients of all types are asking how to prepare their portfolios for the physical effects of climate change and the transition to its business strategy , governance , and risk-management processes to account for climate-related impacts to its business and clients . supporting the transition to net zero in 2020 , blackrock announced a commitment to making sustainability our standard for investing . building upon the progress made in 2020 , blackrock announced a series of commitments in january 2021 focused on the global transition to  net zero  . the commitments focus on three themes : ( i ) measurement and transparency ; ( ii ) investment management ; and ( iii ) investment stewardship . in 2021 , blackrock joined the net zero asset managers initiative ( “ nzam ” ) and the glasgow financial alliance for net zero ( “ gfanz ” ) . gfanz brings together financial sector net zero initiatives for the common goal of decarbonizing the economy . blackrock has made significant progress towards its to include over 1,000 public companies . bis reviews and engages with the companies in the climate focus universe on their climate action plans and disclosures . in 2021 , bis explicitly encouraged these companies to articulate how their business model is aligned to a scenario in which global warming is limited to well below 2°c , consistent with moving towards global  net zero  emissions by 2050.5 technology to measure climate risk aladdin® is blackrock ’ s end-to-end investment management and operations platform . aladdin combines sophisticated risk analytics with portfolio management , trading , and operations tools on a single , unified platform . in 2020 , blackrock launched aladdin climate to meet the urgent need among financial institutions and investors to quantify climate risk in their s still in early innings . mark wiedman , head of international and corporate strategy , 2021 figures above as of september 30 , 2021 , unless otherwise specified blackrock 2021 tcfd report 100 % 7 renewable electricity goal in operations achieved $ 2.8 tn aum in funds for which climate metrics are reported publicly 10 151 active sustainable offerings “ as the world transitions to a  net zero  economy , it ’ s critical that investors understand the impact of their investment decisions through a climate risk-adjusted lens . sudhir nair , global head of aladdin , 2021 aladdin climate offers investors measures of physical and transition risk with climate-adjusted security and portfolio-level financial risk metrics . to support the buildout of these capabilities , blackrock has developed partnerships with leading researchers to drive the firm ’ s priorities . this year , blackrock took steps to further align its philanthropic commitments with blackrock ’ s leading role at the intersection of sustainability and technology . in 2021 , the blackrock foundation committed $ 100 million , its largest grant ever , to breakthrough energy ’ s catalyst program ( “ catalyst ” ) , to help accelerate the development of the climate solutions necessary to achieve  net zero  emissions by 2050 . this philanthropic capital will support cutting the “ green premium ” 9 on clean energy technology including saf , green hydrogen , direct air capture , and long-duration energy storage . 8,000+ esg metrics within aladdin platform figures above as of september 30 , 2021 , unless otherwise specified blackrock 2021 tcfd report our commitment to transparency getting to net zero starts with increasingly reporting their ghg emissions through voluntary and regulatory initiatives ; ( ii ) blackrock ’ s commitment to put sustainability at the center of aladdin® has led to greater incorporation of climate-related metrics and data into blackrock ’ s analytics ; and ( iii ) a series of industry efforts are facilitating the development of methodologies for calculating climate-related and portfolio alignment metrics and setting  net zero -aligned targets . at the fund level , blackrock publishes climate and other sustainability characteristics , including weighted-average carbon intensity ( “ waci ” ) and implied temperature rise ( “ itr ” ) , on product pages of blackrock ’ s website for etfs and index mutual funds where sufficient data on the underlying fund holdings and satisfactory methodologies are available . one or more climate-related metrics is publicly available on by blackrock . 10 8 blackrock ’ s net zero commitments investment management stewardship measurement and transparency publishing a temperature alignment metric for etfs and mutual funds for markets with sufficiently reliable data publishing the proportion of our aum that are currently aligned to net zero , and announcing an interim target on the proportion of our aum that will be aligned to  net zero  in 2030 , for markets with sufficiently reliable data through aladdin climate , helping more investors manage and meet their climate objectives by tracking investment portfolios ’ trajectories toward net zero , and helping to catalyse increasingly robust and standardized climate data and metrics to better serve the industry incorporating the impacts of climate change into capital market assumptions , the cornerstone for portfolio construction managing securities that pose significant climate risk in active portfolios helping clients benefit from opportunities created by the energy transition launching investment products with explicit temperature alignment goals , including products aligned to a net zero pathway engaging with the companies our clients are invested in to understand how they are mitigating climate risk and considering the opportunities presented by the  net zero  transition asking companies to disclose a business plan aligned with the goal of limiting global warming to well below 2ºc , consistent with achieving net zero global emissions by 2050 increasing the role of votes on shareholder proposals in our stewardship efforts around sustainability corporate initiatives reporting aggregate emissions attributable to investment portfolios managed on behalf of blackrock ’ s clients , where strategies , where relevant , are aligned with a well below 2°c scenario , using whichever approach or metrics best suit their organizational context or capabilities . * describe the targets used by the organization to manage climate- related risks and opportunities and performance against targets in january 2021 , blackrock announced a series of commitments focused on supporting clients in the global transition to  net zero  , around three themes : ( i ) measurement and transparency ; ( ii ) investment management ; and ( iii ) investment stewardship . also see exhibit m.2 for progress towards environmental targets for operations . * reflects recommendations that are included in the tcfd supplemental guidance for asset managers , which incorporates updates to the guidance for the financial sector released by the tcfd in 2021 ( https : //assets.bbhub.io/company has oversight . the board holds six regularly scheduled meetings per year during which the board ’ s committees also meet . in 2021 , the full board reviewed and discussed aspects of blackrock ’ s climate and sustainability-related strategy during five out of the six meetings . these reviews and discussions covered elements of the firm ’ s commitment to supporting the global goal of  net zero  emissions by 2050 or sooner , including steps blackrock is taking to help clients prepare their portfolios for a net zero world , as well as blackrock ’ s approach to expanding sustainable investment solutions , ongoing esg integration efforts , and the investment stewardship team ’ s engagement on environmental and social issues . the nominating , governance & sustainability committee of blackrock ’ s board of directors ( `` ngsc risks and opportunities . blackrock 2021 tcfd report 12 management committee sustainability-related responsibilities global executive committee ( “ gec ” ) • led by the ceo , the gec sets the strategic vision and priorities of the firm and drives accountability at all levels . • in 2021 , the gec sent a letter to clients outlining steps blackrock is taking to help investors prepare their portfolio for a  net zero  world . • actively involved in the development of , and receives regular updates on , blackrock ’ s sustainability strategy , including progress towards delivering upon the firm ’ s net zero commitments . investment sub-committee of the gec • oversees investment process consistency across the firm ’ s investment groups . • members include the chief risk officer and global heads or sponsors of all major investment divisions • oversees stewardship , public policy , corporate sustainability , and social impact oversees sustainability strategy ; investment sub-committee oversees investment process consistency including esg integration develops and oversees environmental sustainability strategy for operations , collects and reports corporate ghg emissions data ; develops climate-related disclosures blackrock 2021 tcfd report asset owners and asset managers alike have heightened their commitments to support the global transition to  net zero  . to put this in perspective , gfanz now represents over 450 financial firms responsible for assets of roughly $ 130 trillion committed to accelerating the decarbonization of the economy.1 in addition , over 3,000 companies and investors have committed to net zero through the race to zero , a global coalition for climate action as of november 2021 . blackrock recognizes the critical on net zero by its clients , as well as governments and policy makers around the world . additionally , blackrock must consider all matters that are material to its clients ’ long-term financial returns , consistent with their investment objectives , including climate-related risks and opportunities . that is why in january 2021 , blackrock announced commitments to help investors prepare their portfolios for a  net zero  world , including capturing opportunities created by the net zero strategy disclose the actual and potential impacts of climate-related risks and opportunities on the organization ’ s businesses , strategy , and financial planning , where such information is material 14 transition and worked over the course of the year to implement those commitments ( progress shown on page 8 ) . blackrock also recognizes that different s sasb-aligned 2020 sustainability disclosure ( item fn-ac-410a.2 ) for additional information on esg integration at blackrock . as an advancement to its existing esg integration efforts , in 2021 , blackrock established a framework to monitor exposures to issuers that may present significant climate risk in active portfolios . while many issuers are effectively preparing for the global transition towards a  net zero  economy , others that are not adequately preparing may present a risk to blackrock ’ s clients ’ portfolios , which blackrock monitors closely . conversely , companies that distinguish themselves in terms of their transition preparedness and governance may represent investment and/or alpha opportunities for blackrock ’ s clients . investment stewardship as a long-term investor on behalf of our clients , blackrock ’ s conviction is sought to understand how companies promote biodiversity and ecosystem health and the responsible use of energy , as well their impact on communities in which they operate . in 2021 , bis asked companies to articulate how their business model is aligned to a scenario in which global warming is limited to well below 2° c , consistent with a global aspiration to reach  net zero  emissions by 2050 . bis also encouraged companies to provide disclosure aligned with the tcfd , including scope 1 and scope 2 emissions . companies in carbon-intensive industries were also encouraged disclose scope 3 emissions . exhibit s.2 : bis ’ approach to climate risk and natural capital climate risk natural capital blackrock 2021 tcfd report 16 should be noted that bis supported some signal its concern that further progress on climate- related issues is needed , it did so in the long-term economic interests of blackrock ’ s clients . bis will continue to engage all companies , with a particular focus on those in the climate focus universe , to encourage further action and enhanced disclosures to assess these companies ’ preparedness to navigate the transition to  net zero  . exhibit s.3 highlights engagement and voting statistics for climate-related concerns across investee companies for the 2020-2021 proxy year . exhibit s.3 : engagement and voting for climate-related concerns source : blackrock and institutional shareholder services ( “ iss ” ) . iss classifications used . sourced on july 8 , 2021 , reflecting data from july 1 , 2020 through june 30 , 2021 . for more information refer votes against management on climate risk concerns at approximately 2 % of the 13,190 companies bis voted at on behalf of blackrock ’ s clients . 255 votes against director elections for climate- related concernsa 319 unique companies voted against for climate - related concernsb blackrock 2021 tcfd report an estimated $ 50 trillion to $ 100 trillion in capital investment is required to reach  net zero  by mid-century , a massive shift that will affect the long-term profitability of companies , industries , and whole economic sectors.5 investment solutions that can help blackrock ’ s clients better manage climate-related risks to their portfolios and benefit from or contribute to the energy transition are , therefore , amongst the greatest climate-related opportunities for blackrock . blackrock ’ s capital markets are long-run estimates of risk and return that can be used as building blocks for portfolio construction . in 2021 , blackrock enhanced its cmas to incorporate climate considerations . underpinning our new cmas is the view that avoiding climate change damages will help drive economic growth and offer investors better returns over the long-term . climate change and the transition to  net zero  are expected to be persistent drivers of asset returns , and consequently fundamental to making strategic investment decisions . 6 over the past few years , blackrock has significantly expanded the number of sustainable investment strategies available to clients . for example , in 2021 blackrock launched nine new funds and repurposed seven equity and fixed income funds with clearly articulated esg criteria embedded in many potential transition paths the world could take . blackrock acquired the climate change scenario model from baringa partners in june 2021 , which in combination with aladdin financial models , enables aladdin climate to deliver analytics on the effects of various transition pathways across different sectors . this allows aladdin to develop more granular modeling of the impact of a transition to a  net zero  economy on specific investments . both physical and transition risk capabilities are now available through aladdin climate . ultimately , aladdin is seeking to fully support investment professionals in their integration of sustainability data and analytics into their daily workflows . blackrock 2021 tcfd report blackrock recognizes the importance of effective identification , monitoring , and management of climate- related risks and opportunities across its global developed assumptions around client behavior and product flows not included in pre-specified scenarios • updated analytical specifications based on internal workshops to produce final output blackrock 2021 tcfd report transition relative to a more gradual and coordinated outcome . to represent this distinction , blackrock selected two climate transition scenarios developed by the network for greening the financial system ( “ ngfs ” ) : ( 1 ) orderly –  net zero  2050 ; and ( 2 ) disorderly – delayed transition . these transition pathways use three detailed integrated assessment models ( “ iams ” ) 5 given the range of climate sensitivities . blackrock elected to utilize the ngfs scenarios for transition risk given the increasing adoption by global regulators and the granularity of data provided across a range of plausible scenarios . physical risk . physical risks of climate change arise advancement to blackrock ’ s 2021 enterprise-level climate scenario analysis was the use of aladdin climate to assess asset-level climate-related impacts . as such , following is a discussion of the aladdin climate analytics that were utilized for this analysis . exhibit s.9 provides an overview of aladdin climate ’ s approach to quantifying transition and physical climate risks . 26 orderly –  net zero  2050 disorderly – delayed transition rcp 4.5 – some climate action rcp 8.5 – no climate action description stringent climate policies and innovation , reaching global net zero co2 emissions around 2050 climate policies are delayed , which forces a very aggressive policy response starting in 2030 emissions peak around 2040 then decline global emissions grow through the rest of the century expected scenario assess expected risks under forward-looking climate scenarios 01 02 03 04 assess the sector & economic impact convert climate projections into forecasts of sector & economic impact map to company & asset information map sector impacts and geolocations to individual companies and assets translate into financial terms translate into financial risks and temperature metrics at security and portfolio level the orderly –  net zero  2050 scenario is most likely to affect blackrock in the short- to medium- term , as decisive policy actions will need to be effectuated in the very near-term to remain on this trajectory . the disorderly – delayed transition scenario could also affect blackrock with a key challenge presented through the need to adapt to a potentially uncoordinated or disjointed regulatory environment consume annually . this goal is achieved by contracting directly for renewable electricity , wherever possible ( approximately 50 % ) , and purchasing environmental attribute certificates ( “ eacs ” ) 7 when blackrock does not have operational control to procure its own electricity or where renewable electricity is not available . carbon credits as part of blackrock ’ s efforts to mitigate its environmental impact while on the journey to  net zero  , blackrock purchases carbon credits to compensate for the emissions from its operations that can not currently be eliminated . this is a near-term mitigation strategy until blackrock can further eliminate emissions or there is a more permanent nature-based or engineered technology solution . while blackrock does not rely on carbon credits to reach its emissions reduction targets , carbon credits are examples of gtn initiatives in 2020 and 2021 include : • the “ do one thing ” campaign focused on actions employees can take to reduce their impact on the environment , including adjusting thermostat and water heater settings , unplugging unused electronics , getting educated on environmental issues , and reducing meat consumption . • gtn championed an educational campaign highlighting ways employees can reduce their plastic use . • the “  net zero  challenge ” encouraged employees to measure their own emissions and commit to actions to reduce them . social impact social impact is the firm ’ s charitable arm that seeks to advance equitable and sustainable economies and communities . through the blackrock foundation ( the “ foundation ” ) , blackrock funds and partners with organizations globally that help people , beyond the reach of the firm ’ s core business program . below are examples of the foundation ’ s climate-related philanthropic commitments and programs : • breakthrough energy catalyst . in september 2021 , the foundation committed $ 100 million to breakthrough energy catalyst , a program within the larger breakthrough energy network founded by bill gates . catalyst is a new model for how businesses , governments , and private philanthropy can help build the foundation of the  net zero  economy.9 catalyst identifies technologies at critical junctures where investments and blended financing can reduce the “ green premium ” – the difference in cost between a carbon emitting technology and its cleaner alternative . catalyst ’ s initial focus will be to help speed the development and commercialization of four clean energy technologies : direct air capture , green hydrogen , sustainable aviation fuel , and long-duration operations in the us , uk , france , italy , spain , and india to help them scale their programs and place many more people into growth sectors that are compatible with a sustainable , low-carbon economy , including green jobs opportunities . these jobs , identified by generation , will help program graduates launch stable careers and ultimately support their communities in the transition to a green  net zero  economy . • echoing green . blackrock partners with social impact accelerator echoing green to create opportunities for blackrock employees to lend their skills and brainpower to echoing green ’ s social entrepreneur fellows focused on renewable energy access , sustainable agriculture , and other climate solutions . in 2021 , blackrock engaged in both long-term ( 7-week ) and short-term ( 90-minute ) projects where employees are blackrock strives to engage constructively in the global dialogue through participation in collaborative industry initiatives as well as through engagement with regulators around the world . collaborative initiatives blackrock and its employees participate in collaborative initiatives , examples of which are listed in exhibit s.12 , to share technical expertise and investment research regarding climate-related risks and the transition to a  net zero  economy , as well as to support the development of consistent industry standards and approaches to climate- related disclosures and net zero portfolio alignment . in 2021 , blackrock joined gfanz , an organization that brings together over 450 financial firms across 45 countries , collectively responsible for more than $ 130 32 industry engagement & public policy trillion dollars in assets to help transform the global network of un and cop advisers , expert climate ngos , and firms across the gfanz member base with the goal of helping to mobilize and accelerate platforms being developed in hard-to-abate sectors focusing on aviation , steel , and oil & gas . blackrock also joined nzami in 2021 , which is an international group of asset managers committed to supporting investing aligned with  net zero  emissions by 2050 or sooner . public policy blackrock is a proponent of tcfd-aligned reporting , supplemented by industry-specific metrics , in addition to supporting convergence of the private sector reporting frameworks and standards to establish a globally consistent approach to climate and sustainability reporting more broadly under a common governance framework . blackrock advocates for consistent reporting standards for corporate issuers investors ’ needs.14 blackrock supports the formation of the issb and believes this will help drive progress toward the convergence needed to improve the quality of information available to investors and other stakeholders , while reducing the reporting burden on companies . exhibit s.12 : select examples of climate- related collaborative initiatives • climate bonds initiative • energy transitions commission • glasgow financial alliance for  net zero  • green bond principles • institutional investors group on climate change • net zero asset managers initiative • partnership for carbon accounting financials • portfolio alignment team • taskforce on climate-related financial disclosures • taskforce on nature-related financial disclosures • taskforce on scaling voluntary carbon markets note the above list is not exhaustive and is provided for informational purposes . blackrock 2021 tcfd report an integral part of energy use , ghg emissions , local climate , facility type , location , occupancy status , and potential financial impact . risk management disclose how the organization identifies , assesses , and manages climate-related risks . 33 blackrock 2021 tcfd report metrics & targets disclose the metrics and targets used to assess and manage relevant climate-related risks and opportunities where such information is material . 34 getting to  net zero  starts with measuring where we are today . we expect this of the companies in which we invest on behalf of our clients , and we recognize the importance of leading by example in our own disclosure . that is why a critical component of blackrock ’ s net zero commitment is focused on enhancing transparency at the fund and firm level . blackrock utilizes through voluntary and regulatory initiatives ; ( ii ) blackrock ’ s commitment to put sustainability at the center of the aladdin platform has resulted in the incorporation of a breadth of climate-related metrics and data into blackrock ’ s analytical systems ; and ( iii ) industry efforts have formed to facilitate the development of methodologies for calculating climate- related and portfolio alignment metrics and setting  net zero -aligned targets . following is a discussion of the methodology , results , and limitations of an analysis performed in 2021 to compute preliminary estimates of the absolute emissions and carbon footprint associated with blackrock ’ s aum in corporate securities ( listed equities , corporate bonds , and associated derivatives ) ,8 and real estate . these asset classes were included in the analysis because there is consensus assets included in this analysis represent more than 65 % of blackrock ’ s aum . as consensus around methodologies and available data for additional asset classes builds , blackrock will seek to incorporate those asset classes into future tcfd reports . 40 firm-level climate metrics for blackrock ’ s aum metrics selection there is currently little consensus on how to measure portfolio alignment to  net zero  and/or exposure to the climate transition.9 blackrock undertook an exercise in 2021 to evaluate existing climate-related and portfolio alignment metrics and methodologies , with the goal of reporting aggregate statistics ( where sufficient data and methodologies exist ) for blackrock ’ s aum . the objective was not only to provide information to stakeholders , but also to advance the dialogue within the exposure to “ green ” assets or revenues proportionate exposure to investee ghg emissions emissions exposure per unit of output or investment ( i.e. , revenue , aum , mwh ) temperature rise implied by holdings portion of aum in investees meeting criteria , e.g . having science-based targets pros • captures importance of financing the solutions that support the transition • standard data inputs • direct connection to  net zero  goals • industry standard ( pcaf ) • standard data inputs • normalizes for size , allowing comparability • intuitive connection to net zero goals • clearly defined • simple to track / communicate • industry standard ( sbti ) cons • lack of consensus on definition of “ green ” • limited data availability • doesn ’ t account for size • market movement can create noise • incomplete data / asset class coverage • market movements can create noise • incomplete data itr for additional funds managed by blackrock , please visit www.ishares.com . the waci and itr measures used for these portfolios are attributable to msci . percentage figures represent data coverage . ishares anticipates that the numbers seen here will change over time . updates will be reflected on www.ishares.com . addendum : blackrock 2021 tcfd report – published april 14 , 2022 tcfd addendum  net zero  asset manager initiative ( “ nzami ” ) disclosure this document ( published on april 14 , 2022 ) represents an addendum to blackrock ’ s 2021 tcfd report , originally published december 23 , 2021 . as an investor and supporter of the tcfd recommendations , blackrock holds itself to high standards for providing transparency to its stakeholders . to this end , blackrock is publicly disclosing information that has been submitted to their investment outcomes . we believe investors and issuers that take a forward-looking position with respect to climate risk and its implications for the energy transition will generate better long-term financial outcomes . climate risk and the economic opportunities from the transition are a top concern for our clients and a rapidly growing share of them have already committed to  net zero  portfolios . because an orderly transition to net zero by 2050 would benefit the global economy and our clients in aggregate , we believe that by 2030 , all issuers would benefit from developing and implementing robust transition plans . however , the russian invasion of ukraine is a stark reminder of the challenges of a just and orderly energy transition . these events may drive 75 % of blackrock corporate and sovereign assets managed on behalf of clients will be invested in issuers with science-based targets or equivalent . 47 addendum : blackrock 2021 tcfd report – published april 14 , 2022 methodology nzami has recommended that asset managers utilize one of three frameworks related to the initiative : ( i ) institutional investors group on climate change paris aligned investment initiative  net zero  investment framework ( “ nzif ” ) ; ( ii ) net zero asset owners initiative target setting protocol ( “ nzao ” ) ; and ( iii ) science-based targets initiative financial sector science-based targets guidance ( “ sbti ” ) . each of these frameworks approach portfolio alignment differently , reflecting the current lack of consensus regarding the definition and measurement of net zero- aligned portfolios . moreover , none of these frameworks were designed specifically to address anticipated value for 2030 ( ≥75 % ) is based on projections of the rate at which corporate and sovereign issuers will adopt science-based targets or equivalent between 2021 and 2030 . blackrock has modified the sbti methodological guidance in a number of ways . first , blackrock is including sovereign treasury holdings within its scope because of the importance of government action to achieve  net zero  goals . sovereigns are not currently addressed by the sbti guidance , as available methodologies to assess net-zero alignment of sovereign debt are less advanced . for sovereigns , blackrock is leveraging the germanwatch climate change performance index ( “ ccpi ” ) referenced by the nzif , as well as climate action tracker ( “ cat ” ) , a well- cited rating method that evaluates a broad spectrum of government targets represent 77 % of blackrock ’ s total aum as of september 30 , 2021 . finally , blackrock does not intend to base its methodology and alignment tracking on the sbt initiative . aligned with our global stewardship principles , blackrock may consider issuers aligned if they follow another science-based framework , particularly for sectors for which methods are not available from sbti . important notes & limitations  net zero  portfolio alignment frameworks and the underlying data and methodologies to support the computation of these metrics are nascent and expected to evolve significantly in coming years . blackrock reserves the right to change the methodologies and sources of data used to produce this disclosure , which may lead to significant changes to the metrics reported herein , including changes to the baseline figures purposes of this tcfd report , include : the integration of esg factors into investment processes , sustainable investment strategies , investment stewardship engagement on climate-related matters , corporate sustainability strategy and disclosures , and public policy and philanthropic activities related to climate change . strategy ( esg integration , investment stewardship , investment strategies , aladdin ) 1 . more information available at : https : //www.gfanzero.com/about/gfanz sub-sectoral  net zero  initiatives including : net-zero banking alliance ( “ nzba ” ) , net zero asset managers initiative ( “ nzami ” ) , net-zero asset owner alliance ( “ nzaoa ” ) , institutional investor group on climate change ’ s paris aligned investment initiative ( “ paii ” ) and net- zero insurance alliance ( “ nzia ” ) . information as of november 2021 . blackrock applauds the development of these initiatives and is participating in several of them 2 . see blackrock investment following derivative types are out of scope : equity index options , currency options , options on commodities and volatility index , cdx , swaps ( other than cds and total return ) , and synthetics . 9 . blackrock was represented on the tcfd ’ s portfolio alignment team in the publication of a report titled “ measuring portfolio alignment : assessing the position of companies and portfolios on the path to  net zero  ” which provided an assessment of the options available to measure the alignment of financial portfolios with climate goals . 10 . while absolute emissions for aum is intellectually consistent with other emissions metrics reported at the corporate level , it is worth noting that a significant majority of the investments blackrock makes on behalf of its clients are in publicly traded equity and recommendations of the tcfd . available at : https : //assets.bbhub.io/company/sites/60/2020/10/final-tcfd-annex-amended-121517.pdf 20 . holdings values as of 9/30/21 . itr was first published on funds in december 2021 . 52 additional resources for further information on our sustainability efforts , please see : 2020 sustainability commitments & progress • blackrock ’ s 2020 sustainability actions • 2021  net zero  commitments , letter to clients investment stewardship • 2022 global principles • 2021 engagement priorities • 2021 stewardship expectations • 2021 voting spotlight • 2020 calendar year annual report • blackrock investment stewardship 2020 annual report • blackrock investment stewardship sustainability report esg integration • blackrock 's approach to integrating sustainability-related factors into portfolio management • 2020 pri report • esg integration statement blackrock investment institute research • troubled waters : financial\n",
            "Keyword string for 'carbon neutral': \n"
          ]
        },
        {
          "output_type": "error",
          "ename": "ValueError",
          "evalue": "ignored",
          "traceback": [
            "\u001b[0;31m---------------------------------------------------------------------------\u001b[0m",
            "\u001b[0;31mValueError\u001b[0m                                Traceback (most recent call last)",
            "\u001b[0;32m<ipython-input-21-b4d3feb22fee>\u001b[0m in \u001b[0;36m<cell line: 5>\u001b[0;34m()\u001b[0m\n\u001b[1;32m     15\u001b[0m     \u001b[0;31m# Fit and transform the text data\u001b[0m\u001b[0;34m\u001b[0m\u001b[0;34m\u001b[0m\u001b[0m\n\u001b[1;32m     16\u001b[0m     \u001b[0mprint\u001b[0m\u001b[0;34m(\u001b[0m\u001b[0;34mf\"Keyword string for '{keyword}': {keyword_string}\"\u001b[0m\u001b[0;34m)\u001b[0m\u001b[0;34m\u001b[0m\u001b[0;34m\u001b[0m\u001b[0m\n\u001b[0;32m---> 17\u001b[0;31m     \u001b[0mtfidf\u001b[0m \u001b[0;34m=\u001b[0m \u001b[0mvectorizer\u001b[0m\u001b[0;34m.\u001b[0m\u001b[0mfit_transform\u001b[0m\u001b[0;34m(\u001b[0m\u001b[0;34m[\u001b[0m\u001b[0mkeyword_string\u001b[0m\u001b[0;34m]\u001b[0m\u001b[0;34m)\u001b[0m\u001b[0;34m\u001b[0m\u001b[0;34m\u001b[0m\u001b[0m\n\u001b[0m\u001b[1;32m     18\u001b[0m \u001b[0;34m\u001b[0m\u001b[0m\n\u001b[1;32m     19\u001b[0m     \u001b[0;31m# Get the feature names and their corresponding TF-IDF scores\u001b[0m\u001b[0;34m\u001b[0m\u001b[0;34m\u001b[0m\u001b[0m\n",
            "\u001b[0;32m/usr/local/lib/python3.9/dist-packages/sklearn/feature_extraction/text.py\u001b[0m in \u001b[0;36mfit_transform\u001b[0;34m(self, raw_documents, y)\u001b[0m\n\u001b[1;32m   2131\u001b[0m             \u001b[0msublinear_tf\u001b[0m\u001b[0;34m=\u001b[0m\u001b[0mself\u001b[0m\u001b[0;34m.\u001b[0m\u001b[0msublinear_tf\u001b[0m\u001b[0;34m,\u001b[0m\u001b[0;34m\u001b[0m\u001b[0;34m\u001b[0m\u001b[0m\n\u001b[1;32m   2132\u001b[0m         )\n\u001b[0;32m-> 2133\u001b[0;31m         \u001b[0mX\u001b[0m \u001b[0;34m=\u001b[0m \u001b[0msuper\u001b[0m\u001b[0;34m(\u001b[0m\u001b[0;34m)\u001b[0m\u001b[0;34m.\u001b[0m\u001b[0mfit_transform\u001b[0m\u001b[0;34m(\u001b[0m\u001b[0mraw_documents\u001b[0m\u001b[0;34m)\u001b[0m\u001b[0;34m\u001b[0m\u001b[0;34m\u001b[0m\u001b[0m\n\u001b[0m\u001b[1;32m   2134\u001b[0m         \u001b[0mself\u001b[0m\u001b[0;34m.\u001b[0m\u001b[0m_tfidf\u001b[0m\u001b[0;34m.\u001b[0m\u001b[0mfit\u001b[0m\u001b[0;34m(\u001b[0m\u001b[0mX\u001b[0m\u001b[0;34m)\u001b[0m\u001b[0;34m\u001b[0m\u001b[0;34m\u001b[0m\u001b[0m\n\u001b[1;32m   2135\u001b[0m         \u001b[0;31m# X is already a transformed view of raw_documents so\u001b[0m\u001b[0;34m\u001b[0m\u001b[0;34m\u001b[0m\u001b[0m\n",
            "\u001b[0;32m/usr/local/lib/python3.9/dist-packages/sklearn/feature_extraction/text.py\u001b[0m in \u001b[0;36mfit_transform\u001b[0;34m(self, raw_documents, y)\u001b[0m\n\u001b[1;32m   1386\u001b[0m                     \u001b[0;32mbreak\u001b[0m\u001b[0;34m\u001b[0m\u001b[0;34m\u001b[0m\u001b[0m\n\u001b[1;32m   1387\u001b[0m \u001b[0;34m\u001b[0m\u001b[0m\n\u001b[0;32m-> 1388\u001b[0;31m         \u001b[0mvocabulary\u001b[0m\u001b[0;34m,\u001b[0m \u001b[0mX\u001b[0m \u001b[0;34m=\u001b[0m \u001b[0mself\u001b[0m\u001b[0;34m.\u001b[0m\u001b[0m_count_vocab\u001b[0m\u001b[0;34m(\u001b[0m\u001b[0mraw_documents\u001b[0m\u001b[0;34m,\u001b[0m \u001b[0mself\u001b[0m\u001b[0;34m.\u001b[0m\u001b[0mfixed_vocabulary_\u001b[0m\u001b[0;34m)\u001b[0m\u001b[0;34m\u001b[0m\u001b[0;34m\u001b[0m\u001b[0m\n\u001b[0m\u001b[1;32m   1389\u001b[0m \u001b[0;34m\u001b[0m\u001b[0m\n\u001b[1;32m   1390\u001b[0m         \u001b[0;32mif\u001b[0m \u001b[0mself\u001b[0m\u001b[0;34m.\u001b[0m\u001b[0mbinary\u001b[0m\u001b[0;34m:\u001b[0m\u001b[0;34m\u001b[0m\u001b[0;34m\u001b[0m\u001b[0m\n",
            "\u001b[0;32m/usr/local/lib/python3.9/dist-packages/sklearn/feature_extraction/text.py\u001b[0m in \u001b[0;36m_count_vocab\u001b[0;34m(self, raw_documents, fixed_vocab)\u001b[0m\n\u001b[1;32m   1292\u001b[0m             \u001b[0mvocabulary\u001b[0m \u001b[0;34m=\u001b[0m \u001b[0mdict\u001b[0m\u001b[0;34m(\u001b[0m\u001b[0mvocabulary\u001b[0m\u001b[0;34m)\u001b[0m\u001b[0;34m\u001b[0m\u001b[0;34m\u001b[0m\u001b[0m\n\u001b[1;32m   1293\u001b[0m             \u001b[0;32mif\u001b[0m \u001b[0;32mnot\u001b[0m \u001b[0mvocabulary\u001b[0m\u001b[0;34m:\u001b[0m\u001b[0;34m\u001b[0m\u001b[0;34m\u001b[0m\u001b[0m\n\u001b[0;32m-> 1294\u001b[0;31m                 raise ValueError(\n\u001b[0m\u001b[1;32m   1295\u001b[0m                     \u001b[0;34m\"empty vocabulary; perhaps the documents only contain stop words\"\u001b[0m\u001b[0;34m\u001b[0m\u001b[0;34m\u001b[0m\u001b[0m\n\u001b[1;32m   1296\u001b[0m                 )\n",
            "\u001b[0;31mValueError\u001b[0m: empty vocabulary; perhaps the documents only contain stop words"
          ]
        }
      ]
    },
    {
      "cell_type": "code",
      "source": [],
      "metadata": {
        "id": "PfyGFRzX0hrc"
      },
      "execution_count": null,
      "outputs": []
    },
    {
      "cell_type": "code",
      "source": [],
      "metadata": {
        "colab": {
          "base_uri": "https://localhost:8080/",
          "height": 399
        },
        "id": "8r5v48qOzmFV",
        "outputId": "5c4e43c1-0b7a-42d9-a1f3-d293573120a4"
      },
      "execution_count": null,
      "outputs": [
        {
          "output_type": "error",
          "ename": "ValueError",
          "evalue": "ignored",
          "traceback": [
            "\u001b[0;31m---------------------------------------------------------------------------\u001b[0m",
            "\u001b[0;31mValueError\u001b[0m                                Traceback (most recent call last)",
            "\u001b[0;32m<ipython-input-23-d1542e3fc107>\u001b[0m in \u001b[0;36m<cell line: 18>\u001b[0;34m()\u001b[0m\n\u001b[1;32m     30\u001b[0m     \u001b[0;31m# Check if the vocabulary is empty after adding custom stop words\u001b[0m\u001b[0;34m\u001b[0m\u001b[0;34m\u001b[0m\u001b[0m\n\u001b[1;32m     31\u001b[0m     \u001b[0mvectorizer_with_stopwords\u001b[0m \u001b[0;34m=\u001b[0m \u001b[0mTfidfVectorizer\u001b[0m\u001b[0;34m(\u001b[0m\u001b[0mstop_words\u001b[0m\u001b[0;34m=\u001b[0m\u001b[0mmy_stop_words_with_keyword\u001b[0m\u001b[0;34m,\u001b[0m \u001b[0mmax_features\u001b[0m\u001b[0;34m=\u001b[0m\u001b[0;36m5000\u001b[0m\u001b[0;34m)\u001b[0m\u001b[0;34m\u001b[0m\u001b[0;34m\u001b[0m\u001b[0m\n\u001b[0;32m---> 32\u001b[0;31m     \u001b[0mvectorizer_with_stopwords\u001b[0m\u001b[0;34m.\u001b[0m\u001b[0mfit_transform\u001b[0m\u001b[0;34m(\u001b[0m\u001b[0;34m[\u001b[0m\u001b[0;34m' '\u001b[0m\u001b[0;34m]\u001b[0m\u001b[0;34m)\u001b[0m  \u001b[0;31m# fit on an empty string\u001b[0m\u001b[0;34m\u001b[0m\u001b[0;34m\u001b[0m\u001b[0m\n\u001b[0m\u001b[1;32m     33\u001b[0m     \u001b[0;32mif\u001b[0m \u001b[0;32mnot\u001b[0m \u001b[0mvectorizer_with_stopwords\u001b[0m\u001b[0;34m.\u001b[0m\u001b[0mvocabulary_\u001b[0m\u001b[0;34m:\u001b[0m  \u001b[0;31m# if the vocabulary is empty\u001b[0m\u001b[0;34m\u001b[0m\u001b[0;34m\u001b[0m\u001b[0m\n\u001b[1;32m     34\u001b[0m         \u001b[0mkeyword_string\u001b[0m \u001b[0;34m+=\u001b[0m \u001b[0;34m' dummyterm'\u001b[0m  \u001b[0;31m# add a dummy term to the keyword string\u001b[0m\u001b[0;34m\u001b[0m\u001b[0;34m\u001b[0m\u001b[0m\n",
            "\u001b[0;32m/usr/local/lib/python3.9/dist-packages/sklearn/feature_extraction/text.py\u001b[0m in \u001b[0;36mfit_transform\u001b[0;34m(self, raw_documents, y)\u001b[0m\n\u001b[1;32m   2131\u001b[0m             \u001b[0msublinear_tf\u001b[0m\u001b[0;34m=\u001b[0m\u001b[0mself\u001b[0m\u001b[0;34m.\u001b[0m\u001b[0msublinear_tf\u001b[0m\u001b[0;34m,\u001b[0m\u001b[0;34m\u001b[0m\u001b[0;34m\u001b[0m\u001b[0m\n\u001b[1;32m   2132\u001b[0m         )\n\u001b[0;32m-> 2133\u001b[0;31m         \u001b[0mX\u001b[0m \u001b[0;34m=\u001b[0m \u001b[0msuper\u001b[0m\u001b[0;34m(\u001b[0m\u001b[0;34m)\u001b[0m\u001b[0;34m.\u001b[0m\u001b[0mfit_transform\u001b[0m\u001b[0;34m(\u001b[0m\u001b[0mraw_documents\u001b[0m\u001b[0;34m)\u001b[0m\u001b[0;34m\u001b[0m\u001b[0;34m\u001b[0m\u001b[0m\n\u001b[0m\u001b[1;32m   2134\u001b[0m         \u001b[0mself\u001b[0m\u001b[0;34m.\u001b[0m\u001b[0m_tfidf\u001b[0m\u001b[0;34m.\u001b[0m\u001b[0mfit\u001b[0m\u001b[0;34m(\u001b[0m\u001b[0mX\u001b[0m\u001b[0;34m)\u001b[0m\u001b[0;34m\u001b[0m\u001b[0;34m\u001b[0m\u001b[0m\n\u001b[1;32m   2135\u001b[0m         \u001b[0;31m# X is already a transformed view of raw_documents so\u001b[0m\u001b[0;34m\u001b[0m\u001b[0;34m\u001b[0m\u001b[0m\n",
            "\u001b[0;32m/usr/local/lib/python3.9/dist-packages/sklearn/feature_extraction/text.py\u001b[0m in \u001b[0;36mfit_transform\u001b[0;34m(self, raw_documents, y)\u001b[0m\n\u001b[1;32m   1386\u001b[0m                     \u001b[0;32mbreak\u001b[0m\u001b[0;34m\u001b[0m\u001b[0;34m\u001b[0m\u001b[0m\n\u001b[1;32m   1387\u001b[0m \u001b[0;34m\u001b[0m\u001b[0m\n\u001b[0;32m-> 1388\u001b[0;31m         \u001b[0mvocabulary\u001b[0m\u001b[0;34m,\u001b[0m \u001b[0mX\u001b[0m \u001b[0;34m=\u001b[0m \u001b[0mself\u001b[0m\u001b[0;34m.\u001b[0m\u001b[0m_count_vocab\u001b[0m\u001b[0;34m(\u001b[0m\u001b[0mraw_documents\u001b[0m\u001b[0;34m,\u001b[0m \u001b[0mself\u001b[0m\u001b[0;34m.\u001b[0m\u001b[0mfixed_vocabulary_\u001b[0m\u001b[0;34m)\u001b[0m\u001b[0;34m\u001b[0m\u001b[0;34m\u001b[0m\u001b[0m\n\u001b[0m\u001b[1;32m   1389\u001b[0m \u001b[0;34m\u001b[0m\u001b[0m\n\u001b[1;32m   1390\u001b[0m         \u001b[0;32mif\u001b[0m \u001b[0mself\u001b[0m\u001b[0;34m.\u001b[0m\u001b[0mbinary\u001b[0m\u001b[0;34m:\u001b[0m\u001b[0;34m\u001b[0m\u001b[0;34m\u001b[0m\u001b[0m\n",
            "\u001b[0;32m/usr/local/lib/python3.9/dist-packages/sklearn/feature_extraction/text.py\u001b[0m in \u001b[0;36m_count_vocab\u001b[0;34m(self, raw_documents, fixed_vocab)\u001b[0m\n\u001b[1;32m   1292\u001b[0m             \u001b[0mvocabulary\u001b[0m \u001b[0;34m=\u001b[0m \u001b[0mdict\u001b[0m\u001b[0;34m(\u001b[0m\u001b[0mvocabulary\u001b[0m\u001b[0;34m)\u001b[0m\u001b[0;34m\u001b[0m\u001b[0;34m\u001b[0m\u001b[0m\n\u001b[1;32m   1293\u001b[0m             \u001b[0;32mif\u001b[0m \u001b[0;32mnot\u001b[0m \u001b[0mvocabulary\u001b[0m\u001b[0;34m:\u001b[0m\u001b[0;34m\u001b[0m\u001b[0;34m\u001b[0m\u001b[0m\n\u001b[0;32m-> 1294\u001b[0;31m                 raise ValueError(\n\u001b[0m\u001b[1;32m   1295\u001b[0m                     \u001b[0;34m\"empty vocabulary; perhaps the documents only contain stop words\"\u001b[0m\u001b[0;34m\u001b[0m\u001b[0;34m\u001b[0m\u001b[0m\n\u001b[1;32m   1296\u001b[0m                 )\n",
            "\u001b[0;31mValueError\u001b[0m: empty vocabulary; perhaps the documents only contain stop words"
          ]
        }
      ]
    },
    {
      "cell_type": "code",
      "source": [
        "# Create a DataFrame from the dictionary\n",
        "df = pd.DataFrame.from_dict(top_terms_dict, orient='index', columns=['top terms'])\n",
        "\n",
        "# Add a column for the keywords\n",
        "df['keywords'] = df.index\n",
        "\n",
        "# Reorder the columns\n",
        "df = df[['keywords', 'top terms']]\n",
        "\n",
        "# Save the DataFrame to a CSV file\n",
        "df.to_csv('keyword_top_terms.csv', index=False)"
      ],
      "metadata": {
        "id": "S-zBGsS8vXnI"
      },
      "execution_count": null,
      "outputs": []
    }
  ]
}